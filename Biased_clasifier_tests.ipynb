{
 "cells": [
  {
   "cell_type": "code",
   "execution_count": 2,
   "metadata": {
    "collapsed": false
   },
   "outputs": [
    {
     "name": "stdout",
     "output_type": "stream",
     "text": [
      "Populating the interactive namespace from numpy and matplotlib\n"
     ]
    }
   ],
   "source": [
    "%pylab inline"
   ]
  },
  {
   "cell_type": "code",
   "execution_count": 3,
   "metadata": {
    "collapsed": true
   },
   "outputs": [],
   "source": [
    "from sklearn.neighbors import NearestNeighbors\n",
    "import numpy as np\n",
    "from sklearn.gaussian_process import GaussianProcessRegressor\n",
    "from sklearn.ensemble import BaggingClassifier"
   ]
  },
  {
   "cell_type": "code",
   "execution_count": 4,
   "metadata": {
    "collapsed": true
   },
   "outputs": [],
   "source": [
    "#Here I want to test some regressors\n",
    "\n",
    "import numpy as np\n",
    "import h5py\n",
    "import tensorflow as tf\n",
    "\n",
    "from tensorflow import keras\n",
    "from tensorflow.keras import layers\n",
    "\n",
    "from sklearn.model_selection import train_test_split"
   ]
  },
  {
   "cell_type": "code",
   "execution_count": 5,
   "metadata": {
    "collapsed": true
   },
   "outputs": [],
   "source": [
    "#Now it turns out my sample is very biased\n",
    "#about 1% of the dm particles have associated stellar mass\n",
    "#\n",
    "#Apparently you can pass a bias to the network and it will\n",
    "#work with that\n",
    "#\n",
    "#First load the data\n",
    "\n",
    "f_halo = h5py.File('../m12i_res_7100_cdm/halo_600.hdf5')\n",
    "\n",
    "pos_halo = f_halo['position'][:]\n",
    "mass_halo = f_halo['mass'][:]\n",
    "radius_halo = f_halo['radius'][:]\n",
    "vel_halo = f_halo['velocity'][:]\n",
    "\n",
    "#identify the host                                                                                                   \\\n",
    "                                                                                                                      \n",
    "host_id = np.argmax(mass_halo)\n",
    "host_mass = mass_halo[host_id]\n",
    "host_pos = pos_halo[host_id]\n",
    "host_vel = vel_halo[host_id]\n",
    "\n",
    "f = h5py.File('DM_data_w_stars_training.hdf5')\n",
    "\n",
    "coords = f['PartType1']['Coordinates'][:]\n",
    "vel = f['PartType1']['Velocities'][:]\n",
    "mass_ratio = f['PartType1']['Mass_Ratio'][:]"
   ]
  },
  {
   "cell_type": "code",
   "execution_count": 6,
   "metadata": {
    "collapsed": false
   },
   "outputs": [
    {
     "name": "stdout",
     "output_type": "stream",
     "text": [
      "70514272\n",
      "15489004\n",
      "342360\n"
     ]
    }
   ],
   "source": [
    "diff_coord = coords-host_pos\n",
    "diff_vel = vel - host_vel\n",
    "\n",
    "dist  = np.linalg.norm(diff_coord,axis=1)\n",
    "gal_select = (dist<100.0)\n",
    "\n",
    "diff_coord_gal = diff_coord[gal_select]\n",
    "diff_vel_gal = diff_vel[gal_select]\n",
    "mass_ratio_gal = mass_ratio[gal_select]\n",
    "\n",
    "phase_space_coords =  np.concatenate((diff_coord_gal,diff_vel_gal),axis=1)\n",
    "\n",
    "print len(dist)\n",
    "print len(mass_ratio_gal)\n",
    "\n",
    "print (np.sum(mass_ratio_gal>0.0))"
   ]
  },
  {
   "cell_type": "code",
   "execution_count": 30,
   "metadata": {
    "collapsed": false
   },
   "outputs": [],
   "source": [
    "X_train, X_test, y_train, y_test = train_test_split(phase_space_coords,mass_ratio_gal,\n",
    "                                                    test_size=0.99,random_state=102)"
   ]
  },
  {
   "cell_type": "code",
   "execution_count": 46,
   "metadata": {
    "collapsed": false
   },
   "outputs": [
    {
     "name": "stdout",
     "output_type": "stream",
     "text": [
      "154890 15334114 15489004\n",
      "15146644 342360\n",
      "[-3.78967145]\n"
     ]
    }
   ],
   "source": [
    "print len(y_train), len(y_test), len(mass_ratio_gal)\n",
    "\n",
    "\n",
    "y_all = np.array((mass_ratio_gal!=0),dtype=int)\n",
    "\n",
    "neg, pos = np.bincount(y_all)\n",
    "\n",
    "print neg, pos\n",
    "\n",
    "initial_bias = np.log([float(pos)/float(neg)])\n",
    "\n",
    "print initial_bias"
   ]
  },
  {
   "cell_type": "code",
   "execution_count": 31,
   "metadata": {
    "collapsed": false
   },
   "outputs": [
    {
     "name": "stdout",
     "output_type": "stream",
     "text": [
      "151485 3405\n",
      "[-3.79524167]\n"
     ]
    }
   ],
   "source": [
    "y_train_classifier  = np.array((y_train!=0),dtype=int)"
   ]
  },
  {
   "cell_type": "code",
   "execution_count": 56,
   "metadata": {
    "collapsed": false
   },
   "outputs": [
    {
     "name": "stdout",
     "output_type": "stream",
     "text": [
      "I guess we build this thing\n"
     ]
    }
   ],
   "source": [
    "def build_model(output_bias=None):\n",
    "    \n",
    "    METRICS = [\n",
    "        keras.metrics.TruePositives(name='tp'),\n",
    "        keras.metrics.FalsePositives(name='fp'),\n",
    "        keras.metrics.TrueNegatives(name='tn'),\n",
    "        keras.metrics.FalseNegatives(name='fn'),\n",
    "        keras.metrics.BinaryAccuracy(name='accuracy'),\n",
    "        keras.metrics.Precision(name='precision'),\n",
    "        keras.metrics.Recall(name='recall'),\n",
    "        keras.metrics.AUC(name='auc')\n",
    "    ]\n",
    "    \n",
    "    output_bias = tf.keras.initializers.Constant(output_bias)\n",
    "    model = keras.Sequential([layers.Flatten(input_shape=(6,)),\n",
    "                              layers.Dense(64, activation='relu'),\n",
    "                              layers.Dense(64, activation='relu'),\n",
    "                              layers.Dropout(0.5),\n",
    "                              layers.Dense(1, activation='sigmoid',bias_initializer=output_bias)\n",
    "                             ])\n",
    "    \n",
    "    optimizer = keras.optimizers.Adam(lr=1e-3)\n",
    "\n",
    "    #Can use BinaryCrossentropy because I have only two labels                                                        \n",
    "    #loss  = tf.keras.losses.BinaryCrossentropy(from_logits=True)\n",
    "    loss  = tf.keras.losses.BinaryCrossentropy()\n",
    "    \n",
    "    model.compile(loss=loss,optimizer=optimizer,metrics=METRICS)\n",
    "    \n",
    "    return model\n",
    "\n",
    "print 'I guess we build this thing'\n",
    "\n",
    "model = build_model(output_bias=initial_bias)"
   ]
  },
  {
   "cell_type": "code",
   "execution_count": 58,
   "metadata": {
    "collapsed": false
   },
   "outputs": [],
   "source": [
    "EPOCHS = 1000\n",
    "BATCH_SIZE=2048\n",
    "history = model.fit(X_train, y_train_classifier, epochs=EPOCHS, batch_size=BATCH_SIZE, verbose=0)"
   ]
  },
  {
   "cell_type": "code",
   "execution_count": 59,
   "metadata": {
    "collapsed": false
   },
   "outputs": [
    {
     "name": "stdout",
     "output_type": "stream",
     "text": [
      "15334114/15334114 - 17s - loss: 0.0384 - tp: 150140.0000 - fp: 32183.0000 - tn: 14962976.0000 - fn: 188815.0000 - accuracy: 0.9856 - precision: 0.8235 - recall: 0.4429 - auc: 0.9787\n"
     ]
    },
    {
     "data": {
      "text/plain": [
       "[0.03837270337137236,\n",
       " 150140.0,\n",
       " 32183.0,\n",
       " 14962976.0,\n",
       " 188815.0,\n",
       " 0.98558784,\n",
       " 0.8234836,\n",
       " 0.44294965,\n",
       " 0.9787303]"
      ]
     },
     "execution_count": 59,
     "metadata": {},
     "output_type": "execute_result"
    }
   ],
   "source": [
    "y_test_classifier  = np.array((y_test!=0),dtype=int)\n",
    "\n",
    "model.evaluate(X_test,y_test_classifier,batch_size=BATCH_SIZE,verbose=2)"
   ]
  },
  {
   "cell_type": "code",
   "execution_count": 60,
   "metadata": {
    "collapsed": true
   },
   "outputs": [],
   "source": [
    "y_predict = model.predict(X_test)"
   ]
  },
  {
   "cell_type": "code",
   "execution_count": 69,
   "metadata": {
    "collapsed": false
   },
   "outputs": [
    {
     "data": {
      "text/plain": [
       "2562926"
      ]
     },
     "execution_count": 69,
     "metadata": {},
     "output_type": "execute_result"
    }
   ],
   "source": [
    "len(y_predict)\n",
    "np.max(y_predict)\n",
    "\n",
    "np.sum(y_predict>0.001)"
   ]
  },
  {
   "cell_type": "code",
   "execution_count": 62,
   "metadata": {
    "collapsed": false
   },
   "outputs": [
    {
     "data": {
      "image/png": "[encoded data removed]",
      "text/plain": [
       "<Figure size 432x288 with 1 Axes>"
      ]
     },
     "metadata": {},
     "output_type": "display_data"
    }
   ],
   "source": [
    "plt.hist(y_predict,bins=25,histtype='step')\n",
    "plt.show()"
   ]
  },
  {
   "cell_type": "code",
   "execution_count": null,
   "metadata": {
    "collapsed": true
   },
   "outputs": [],
   "source": []
  }
 ],
 "metadata": {
  "kernelspec": {
   "display_name": "Python 2",
   "language": "python",
   "name": "python2"
  },
  "language_info": {
   "codemirror_mode": {
    "name": "ipython",
    "version": 2
   },
   "file_extension": ".py",
   "mimetype": "text/x-python",
   "name": "python",
   "nbconvert_exporter": "python",
   "pygments_lexer": "ipython2",
   "version": "2.7.13"
  }
 },
 "nbformat": 4,
 "nbformat_minor": 2
}
