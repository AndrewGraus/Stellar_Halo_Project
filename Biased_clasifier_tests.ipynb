{
 "cells": [
  {
   "cell_type": "code",
   "execution_count": 2,
   "metadata": {
    "collapsed": false
   },
   "outputs": [
    {
     "name": "stdout",
     "output_type": "stream",
     "text": [
      "Populating the interactive namespace from numpy and matplotlib\n"
     ]
    }
   ],
   "source": [
    "%pylab inline"
   ]
  },
  {
   "cell_type": "code",
   "execution_count": 3,
   "metadata": {
    "collapsed": true
   },
   "outputs": [],
   "source": [
    "from sklearn.neighbors import NearestNeighbors\n",
    "import numpy as np\n",
    "from sklearn.gaussian_process import GaussianProcessRegressor\n",
    "from sklearn.ensemble import BaggingClassifier"
   ]
  },
  {
   "cell_type": "code",
   "execution_count": 4,
   "metadata": {
    "collapsed": true
   },
   "outputs": [],
   "source": [
    "#Here I want to test some regressors\n",
    "\n",
    "import numpy as np\n",
    "import h5py\n",
    "import tensorflow as tf\n",
    "\n",
    "from tensorflow import keras\n",
    "from tensorflow.keras import layers\n",
    "\n",
    "from sklearn.model_selection import train_test_split"
   ]
  },
  {
   "cell_type": "code",
   "execution_count": 5,
   "metadata": {
    "collapsed": true
   },
   "outputs": [],
   "source": [
    "#Now it turns out my sample is very biased\n",
    "#about 1% of the dm particles have associated stellar mass\n",
    "#\n",
    "#Apparently you can pass a bias to the network and it will\n",
    "#work with that\n",
    "#\n",
    "#First load the data\n",
    "\n",
    "f_halo = h5py.File('../m12i_res_7100_cdm/halo_600.hdf5')\n",
    "\n",
    "pos_halo = f_halo['position'][:]\n",
    "mass_halo = f_halo['mass'][:]\n",
    "radius_halo = f_halo['radius'][:]\n",
    "vel_halo = f_halo['velocity'][:]\n",
    "\n",
    "#identify the host                                                                                                   \\\n",
    "                                                                                                                      \n",
    "host_id = np.argmax(mass_halo)\n",
    "host_mass = mass_halo[host_id]\n",
    "host_pos = pos_halo[host_id]\n",
    "host_vel = vel_halo[host_id]\n",
    "\n",
    "f = h5py.File('DM_data_w_stars_training.hdf5')\n",
    "\n",
    "coords = f['PartType1']['Coordinates'][:]\n",
    "vel = f['PartType1']['Velocities'][:]\n",
    "mass_ratio = f['PartType1']['Mass_Ratio'][:]"
   ]
  },
  {
   "cell_type": "code",
   "execution_count": 6,
   "metadata": {
    "collapsed": false
   },
   "outputs": [
    {
     "name": "stdout",
     "output_type": "stream",
     "text": [
      "70514272\n",
      "15489004\n",
      "342360\n"
     ]
    }
   ],
   "source": [
    "diff_coord = coords-host_pos\n",
    "diff_vel = vel - host_vel\n",
    "\n",
    "dist  = np.linalg.norm(diff_coord,axis=1)\n",
    "gal_select = (dist<100.0)\n",
    "\n",
    "diff_coord_gal = diff_coord[gal_select]\n",
    "diff_vel_gal = diff_vel[gal_select]\n",
    "mass_ratio_gal = mass_ratio[gal_select]\n",
    "\n",
    "phase_space_coords =  np.concatenate((diff_coord_gal,diff_vel_gal),axis=1)\n",
    "\n",
    "print len(dist)\n",
    "print len(mass_ratio_gal)\n",
    "\n",
    "print (np.sum(mass_ratio_gal>0.0))"
   ]
  },
  {
   "cell_type": "code",
   "execution_count": 30,
   "metadata": {
    "collapsed": false
   },
   "outputs": [],
   "source": [
    "X_train, X_test, y_train, y_test = train_test_split(phase_space_coords,mass_ratio_gal,\n",
    "                                                    test_size=0.99,random_state=102)"
   ]
  },
  {
   "cell_type": "code",
   "execution_count": 31,
   "metadata": {
    "collapsed": false
   },
   "outputs": [
    {
     "name": "stdout",
     "output_type": "stream",
     "text": [
      "151485 3405\n",
      "[-3.79524167]\n"
     ]
    }
   ],
   "source": [
    "y_train_classifier  = np.array((y_train!=0),dtype=int)\n",
    "\n",
    "neg, pos = np.bincount(y_train_classifier)\n",
    "\n",
    "print neg, pos\n",
    "\n",
    "initial_bias = np.log([float(pos)/float(neg)])\n",
    "\n",
    "print initial_bias"
   ]
  },
  {
   "cell_type": "code",
   "execution_count": 32,
   "metadata": {
    "collapsed": false
   },
   "outputs": [
    {
     "name": "stdout",
     "output_type": "stream",
     "text": [
      "I guess we build this thing\n"
     ]
    }
   ],
   "source": [
    "def build_model(output_bias=None):\n",
    "    output_bias = tf.keras.initializers.Constant(output_bias)\n",
    "    model = keras.Sequential([layers.Flatten(input_shape=(6,)),\n",
    "                              layers.Dense(64, activation='relu'),\n",
    "                              layers.Dense(64, activation='relu'),\n",
    "                              layers.Dense(1, activation='sigmoid',bias_initializer=output_bias)\n",
    "                             ])\n",
    "    \n",
    "    optimizer = 'adam'\n",
    "\n",
    "    #Can use BinaryCrossentropy because I have only two labels                                                        \n",
    "    loss  = tf.keras.losses.BinaryCrossentropy(from_logits=True)\n",
    "    \n",
    "    model.compile(loss=loss,optimizer=optimizer,metrics=['accuracy'])\n",
    "    \n",
    "    return model\n",
    "\n",
    "print 'I guess we build this thing'\n",
    "\n",
    "model = build_model(output_bias=initial_bias)"
   ]
  },
  {
   "cell_type": "code",
   "execution_count": null,
   "metadata": {
    "collapsed": false
   },
   "outputs": [],
   "source": [
    "EPOCHS = 1000\n",
    "history = model.fit(X_train, y_train_classifier, epochs=EPOCHS, verbose=0)"
   ]
  },
  {
   "cell_type": "code",
   "execution_count": null,
   "metadata": {
    "collapsed": false
   },
   "outputs": [
    {
     "name": "stdout",
     "output_type": "stream",
     "text": [
      "1046691\n"
     ]
    }
   ],
   "source": [
    "model_output = model.predict(X_test)\n",
    "\n",
    "print np.sum(model_output>0.0)\n",
    "\n",
    "#plt.hist(model_output,bins=25,histtype='step')\n",
    "#plt.show()"
   ]
  },
  {
   "cell_type": "code",
   "execution_count": null,
   "metadata": {
    "collapsed": false
   },
   "outputs": [
    {
     "data": {
      "text/plain": [
       "14.650086797345157"
      ]
     },
     "execution_count": 35,
     "metadata": {},
     "output_type": "execute_result"
    }
   ],
   "source": [
    "float(len(model_output))/float(np.sum(model_output>0.0))"
   ]
  },
  {
   "cell_type": "code",
   "execution_count": null,
   "metadata": {
    "collapsed": true
   },
   "outputs": [],
   "source": []
  }
 ],
 "metadata": {
  "kernelspec": {
   "display_name": "Python 2",
   "language": "python",
   "name": "python2"
  },
  "language_info": {
   "codemirror_mode": {
    "name": "ipython",
    "version": 2
   },
   "file_extension": ".py",
   "mimetype": "text/x-python",
   "name": "python",
   "nbconvert_exporter": "python",
   "pygments_lexer": "ipython2",
   "version": "2.7.13"
  }
 },
 "nbformat": 4,
 "nbformat_minor": 2
}
